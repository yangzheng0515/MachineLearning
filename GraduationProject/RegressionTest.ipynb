{
 "cells": [
  {
   "cell_type": "code",
   "execution_count": 1,
   "metadata": {},
   "outputs": [],
   "source": [
    "import numpy as np\n",
    "import matplotlib.pylab as plt\n",
    "from sklearn.linear_model import LinearRegression\n",
    "# 导入多项式回归模型\n",
    "from sklearn.preprocessing import PolynomialFeatures\n",
    "from sklearn.preprocessing import StandardScaler\n",
    "from sklearn.pipeline import Pipeline"
   ]
  },
  {
   "cell_type": "code",
   "execution_count": 2,
   "metadata": {},
   "outputs": [],
   "source": [
    "def getEta(xArr):\n",
    "    \"\"\"\n",
    "    返回参数 η：依塔 Eta\n",
    "    :param xArr:\n",
    "    :return:\n",
    "    \"\"\"\n",
    "    eta = []\n",
    "    for i, tn in enumerate(xArr):\n",
    "        item = tn\n",
    "        if i == 0:\n",
    "            item += tn / len(xArr)\n",
    "            eta.append(item)\n",
    "        else:\n",
    "            count = 0\n",
    "            for j in range(i, -1, -1):\n",
    "                if j < 0: continue\n",
    "                if xArr[i] == xArr[j - 1]:\n",
    "                    count += 1\n",
    "                    continue\n",
    "                else:\n",
    "                    item += (tn - xArr[i - count - 1]) / ((count + 1) * len(xArr))\n",
    "                    eta.append(item)\n",
    "                    break\n",
    "    return eta"
   ]
  },
  {
   "cell_type": "code",
   "execution_count": 3,
   "metadata": {},
   "outputs": [],
   "source": [
    "def failRate(xArr):\n",
    "    \"\"\"\n",
    "    故障率函数\n",
    "    :param xArr:\n",
    "    :return:\n",
    "    \"\"\"\n",
    "    eta = getEta(xArr)\n",
    "    t = np.array(xArr)\n",
    "#     print(eta)\n",
    "#     print(t)\n",
    "#     print(len(eta))\n",
    "#     print(len(t))\n",
    "    xMat = t/eta\n",
    "    x = xMat\n",
    "\n",
    "    alpha, beta, lamda = 0.5384, 0.1967, 0.8499\n",
    "\n",
    "    \"\"\"故障率函数\"\"\"\n",
    "    res = ((lamda*np.power(x, alpha-1))/(eta*np.power(1-x, beta+1)))*((beta-alpha)*x+alpha)\n",
    "    return res"
   ]
  },
  {
   "cell_type": "code",
   "execution_count": 4,
   "metadata": {},
   "outputs": [],
   "source": [
    "def distinct(xArr, yArr):\n",
    "    \"\"\"去重\"\"\"\n",
    "    X, Y = [], []\n",
    "    for i in range(0, len(xArr)):\n",
    "        x, y = xArr[i], yArr[i]\n",
    "        for j in range(i+1, len(xArr)):\n",
    "            if xArr[i] != xArr[j]:\n",
    "                X.append(x)\n",
    "                Y.append(yArr[j-1])\n",
    "                break\n",
    "            else:\n",
    "                if j == len(xArr)-1:\n",
    "                    X.append(x)\n",
    "                    Y.append(yArr[j])\n",
    "                break\n",
    "    return X, Y"
   ]
  },
  {
   "cell_type": "code",
   "execution_count": 5,
   "metadata": {},
   "outputs": [
    {
     "name": "stderr",
     "output_type": "stream",
     "text": [
      "D:\\ProgramData\\Anaconda3\\lib\\site-packages\\ipykernel_launcher.py:19: RuntimeWarning: invalid value encountered in power\n"
     ]
    }
   ],
   "source": [
    "xArr = [1, 1, 1, 1, 2, 2, 2, 2, 3, 3, 6, 11, 15, 19, 25, 28, 30, 33, 38, 44, 48, 53, 56, 57, 57, 58, 58, 59, 59, 59, 60, 60, 60, 60]\n",
    "yArr = failRate(xArr)\n",
    "x, y = distinct(xArr, yArr)\n",
    "# print(x)\n",
    "# print(y)\n",
    "# print(yArr)\n",
    "# print(len(x))\n",
    "# print(len(y))\n",
    "y[0] = 100"
   ]
  },
  {
   "cell_type": "code",
   "execution_count": 6,
   "metadata": {},
   "outputs": [
    {
     "data": {
      "image/png": "[encoded data removed]",
      "text/plain": [
       "<Figure size 432x288 with 1 Axes>"
      ]
     },
     "metadata": {
      "needs_background": "light"
     },
     "output_type": "display_data"
    }
   ],
   "source": [
    "plt.scatter(x, y)\n",
    "plt.show()"
   ]
  },
  {
   "cell_type": "code",
   "execution_count": 7,
   "metadata": {},
   "outputs": [
    {
     "data": {
      "image/png": "[encoded data removed]",
      "text/plain": [
       "<Figure size 432x288 with 1 Axes>"
      ]
     },
     "metadata": {
      "needs_background": "light"
     },
     "output_type": "display_data"
    }
   ],
   "source": [
    "poly_reg = Pipeline([\n",
    "    ('poly', PolynomialFeatures(degree=4)),\n",
    "    ('std_scaler', StandardScaler()),\n",
    "    ('lin_reg', LinearRegression())\n",
    "])\n",
    "X = np.array(x)\n",
    "X = X.reshape(-1, 1)\n",
    "\n",
    "poly_reg.fit(X, y)\n",
    "y_predict = poly_reg.predict(X)\n",
    "plt.scatter(x, y)\n",
    "plt.plot(np.sort(x), y_predict[np.argsort(x)], color='r')\n",
    "plt.show()"
   ]
  },
  {
   "cell_type": "code",
   "execution_count": 8,
   "metadata": {},
   "outputs": [],
   "source": [
    "# coef = poly_reg.named_steps['lin_reg'].coef_\n",
    "# inter = poly_reg.named_steps['lin_reg'].intercept_\n",
    "# print(coef)\n",
    "# print('y = {}x + {}x^2 + {}x^3 + {}x^4'.format(coef[1], coef[2], coef[3], coef[4]))"
   ]
  },
  {
   "cell_type": "code",
   "execution_count": 13,
   "metadata": {},
   "outputs": [
    {
     "data": {
      "text/plain": [
       "array([ 14.37159055, 113.72893503])"
      ]
     },
     "execution_count": 13,
     "metadata": {},
     "output_type": "execute_result"
    }
   ],
   "source": [
    "res = poly_reg.predict([[30], [60]])\n",
    "res"
   ]
  },
  {
   "cell_type": "code",
   "execution_count": 21,
   "metadata": {},
   "outputs": [
    {
     "data": {
      "text/plain": [
       "array([ 1,  2,  3,  4,  5,  6,  7,  8,  9, 10, 11, 12, 13, 14, 15, 16, 17,\n",
       "       18, 19, 20, 21, 22, 23, 24, 25, 26, 27, 28, 29, 30, 31, 32, 33, 34,\n",
       "       35, 36, 37, 38, 39, 40, 41, 42, 43, 44, 45, 46, 47, 48, 49, 50, 51,\n",
       "       52, 53, 54, 55, 56, 57, 58, 59, 60])"
      ]
     },
     "execution_count": 21,
     "metadata": {},
     "output_type": "execute_result"
    }
   ],
   "source": [
    "xx = np.arange(1, 61)\n",
    "XX = np.array(xx)\n",
    "XX\n",
    "# res = poly_reg.predict(xx)\n",
    "# res"
   ]
  },
  {
   "cell_type": "code",
   "execution_count": 49,
   "metadata": {},
   "outputs": [
    {
     "data": {
      "text/plain": [
       "[1, 2, 3, 6, 11, 15, 19, 25, 28, 30, 33, 38, 44, 48, 53, 56, 57, 58, 59, 60]"
      ]
     },
     "execution_count": 49,
     "metadata": {},
     "output_type": "execute_result"
    }
   ],
   "source": [
    "x"
   ]
  },
  {
   "cell_type": "code",
   "execution_count": 50,
   "metadata": {},
   "outputs": [
    {
     "data": {
      "text/plain": [
       "array([ 1,  2,  3,  4,  5,  6,  7,  8,  9, 10, 11, 12, 13, 14, 15, 16, 17,\n",
       "       18, 19, 20, 21, 22, 23, 24, 25, 26, 27, 28, 29, 30, 31, 32, 33, 34,\n",
       "       35, 36, 37, 38, 39, 40, 41, 42, 43, 44, 45, 46, 47, 48, 49, 50, 51,\n",
       "       52, 53, 54, 55, 56, 57, 58, 59, 60])"
      ]
     },
     "execution_count": 50,
     "metadata": {},
     "output_type": "execute_result"
    }
   ],
   "source": [
    "xx"
   ]
  },
  {
   "cell_type": "code",
   "execution_count": 53,
   "metadata": {},
   "outputs": [
    {
     "data": {
      "text/plain": [
       "array([ 8.59854242e+01,  6.72032742e+01,  5.10299409e+01,  3.72547227e+01,\n",
       "        2.56746565e+01,  1.60945173e+01,  8.32681840e+00,  2.19181154e+00,\n",
       "       -2.48251333e+00, -5.86042797e+00, -8.09846581e+00, -9.34542199e+00,\n",
       "       -9.74235336e+00, -9.42257845e+00, -8.51167751e+00, -7.12749249e+00,\n",
       "       -5.38012703e+00, -3.37194646e+00, -1.19757785e+00,  1.05609006e+00,\n",
       "        3.30990683e+00,  5.49246031e+00,  7.54007664e+00,  9.39682029e+00,\n",
       "        1.10144940e+01,  1.23526388e+01,  1.33785341e+01,  1.40671974e+01,\n",
       "        1.44013848e+01,  1.43715906e+01,  1.39760471e+01,  1.32207253e+01,\n",
       "        1.21193344e+01,  1.06933217e+01,  8.97187309e+00,  6.99191249e+00,\n",
       "        4.79810229e+00,  2.44284313e+00, -1.37260612e-02, -2.50372804e+00,\n",
       "       -4.95154726e+00, -7.27382989e+00, -9.37948380e+00, -1.11696785e+01,\n",
       "       -1.25378454e+01, -1.33696773e+01, -1.35431290e+01, -1.29284167e+01,\n",
       "       -1.13880187e+01, -8.77667452e+00, -4.94138579e+00,  2.78584352e-01,\n",
       "        7.05171105e+00,  1.55542077e+01,  2.59700261e+01,  3.84908562e+01,\n",
       "        5.33161264e+01,  7.06530033e+01,  9.07163917e+01,  1.13728935e+02])"
      ]
     },
     "execution_count": 53,
     "metadata": {},
     "output_type": "execute_result"
    }
   ],
   "source": [
    "XX = XX.reshape(-1, 1)\n",
    "res = poly_reg.predict(XX)\n",
    "res"
   ]
  },
  {
   "cell_type": "code",
   "execution_count": 63,
   "metadata": {},
   "outputs": [
    {
     "data": {
      "image/png": "[encoded data removed]",
      "text/plain": [
       "<Figure size 432x288 with 1 Axes>"
      ]
     },
     "metadata": {
      "needs_background": "light"
     },
     "output_type": "display_data"
    }
   ],
   "source": [
    "plt.scatter(xx, res, color='b')\n",
    "plt.scatter(xx[0:10], res[0:10], color='y')\n",
    "plt.scatter(xx[50:], res[50:], color='r')\n",
    "# plt.plot(np.sort(x), y_predict[np.argsort(x)], color='r')\n",
    "plt.show()"
   ]
  },
  {
   "cell_type": "code",
   "execution_count": null,
   "metadata": {},
   "outputs": [],
   "source": []
  }
 ],
 "metadata": {
  "kernelspec": {
   "display_name": "Python 3",
   "language": "python",
   "name": "python3"
  },
  "language_info": {
   "codemirror_mode": {
    "name": "ipython",
    "version": 3
   },
   "file_extension": ".py",
   "mimetype": "text/x-python",
   "name": "python",
   "nbconvert_exporter": "python",
   "pygments_lexer": "ipython3",
   "version": "3.7.1"
  }
 },
 "nbformat": 4,
 "nbformat_minor": 2
}
