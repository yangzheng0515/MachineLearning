{
 "cells": [
  {
   "cell_type": "code",
   "execution_count": 1,
   "metadata": {
    "collapsed": true
   },
   "outputs": [],
   "source": [
    "from numpy import *"
   ]
  },
  {
   "cell_type": "code",
   "execution_count": 3,
   "metadata": {},
   "outputs": [
    {
     "data": {
      "text/plain": [
       "matrix([[1., 0., 0., 0.],\n        [0., 1., 0., 0.],\n        [0., 0., 1., 0.],\n        [0., 0., 0., 1.]])"
      ]
     },
     "execution_count": 3,
     "metadata": {},
     "output_type": "execute_result"
    }
   ],
   "source": [
    "testMat = mat(eye(4))\n",
    "testMat"
   ]
  },
  {
   "cell_type": "code",
   "execution_count": 8,
   "metadata": {},
   "outputs": [],
   "source": [
    "# 默认解析的数据是用tab分隔，并且是数值类型\n",
    "# general function to parse tab -delimited floats\n",
    "def loadDataSet(fileName):\n",
    "    \"\"\"loadDataSet(解析每一行，并转化为float类型)\n",
    "        Desc：该函数读取一个以 tab 键为分隔符的文件，然后将每行的内容保存成一组浮点数\n",
    "    Args:\n",
    "        fileName 文件名\n",
    "    Returns:\n",
    "        dataMat 每一行的数据集array类型\n",
    "    Raises:\n",
    "    \"\"\"\n",
    "    # 假定最后一列是结果值\n",
    "    # assume last column is target value\n",
    "    dataMat = []\n",
    "    fr = open(fileName)\n",
    "    for line in fr.readlines():\n",
    "        curLine = line.strip().split('\\t')\n",
    "        # 将所有的元素转化为float类型\n",
    "        # map all elements to float()\n",
    "        # map() 函数具体的含义，可见 https://my.oschina.net/zyzzy/blog/115096\n",
    "        # fltLine = map(float, curLine)\n",
    "        fltLine = [float(curLine[0]), float(curLine[1])]\n",
    "        dataMat.append(fltLine)\n",
    "    return dataMat"
   ]
  },
  {
   "cell_type": "code",
   "execution_count": 11,
   "metadata": {},
   "outputs": [],
   "source": [
    "myDat = loadDataSet('data/data1.txt')\n",
    "myMat = mat(myDat)\n"
   ]
  },
  {
   "cell_type": "code",
   "execution_count": 12,
   "metadata": {},
   "outputs": [
    {
     "name": "stdout",
     "output_type": "stream",
     "text": [
      "C:\\Users\\yangzheng10\n"
     ]
    }
   ],
   "source": [
    ""
   ]
  },
  {
   "cell_type": "code",
   "execution_count": null,
   "metadata": {},
   "outputs": [],
   "source": []
  }
 ],
 "metadata": {
  "kernelspec": {
   "display_name": "Python 2",
   "language": "python",
   "name": "python2"
  },
  "language_info": {
   "codemirror_mode": {
    "name": "ipython",
    "version": 2
   },
   "file_extension": ".py",
   "mimetype": "text/x-python",
   "name": "python",
   "nbconvert_exporter": "python",
   "pygments_lexer": "ipython2",
   "version": "2.7.6"
  }
 },
 "nbformat": 4,
 "nbformat_minor": 0
}
