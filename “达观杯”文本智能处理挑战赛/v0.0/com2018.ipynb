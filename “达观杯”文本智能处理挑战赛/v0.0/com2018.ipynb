{
 "cells": [
  {
   "cell_type": "code",
   "execution_count": 2,
   "metadata": {},
   "outputs": [],
   "source": [
    "import pandas as pd\n",
    "from sklearn.linear_model import LogisticRegression\n",
    "from sklearn.feature_extraction.text import CountVectorizer"
   ]
  },
  {
   "cell_type": "code",
   "execution_count": 3,
   "metadata": {},
   "outputs": [
    {
     "data": {
      "text/html": [
       "<div>\n",
       "<style scoped>\n",
       "    .dataframe tbody tr th:only-of-type {\n",
       "        vertical-align: middle;\n",
       "    }\n",
       "\n",
       "    .dataframe tbody tr th {\n",
       "        vertical-align: top;\n",
       "    }\n",
       "\n",
       "    .dataframe thead th {\n",
       "        text-align: right;\n",
       "    }\n",
       "</style>\n",
       "<table border=\"1\" class=\"dataframe\">\n",
       "  <thead>\n",
       "    <tr style=\"text-align: right;\">\n",
       "      <th></th>\n",
       "      <th>id</th>\n",
       "      <th>article</th>\n",
       "      <th>word_seg</th>\n",
       "      <th>class</th>\n",
       "    </tr>\n",
       "  </thead>\n",
       "  <tbody>\n",
       "    <tr>\n",
       "      <th>0</th>\n",
       "      <td>0</td>\n",
       "      <td>7368 1252069 365865 755561 1044285 129532 1053...</td>\n",
       "      <td>816903 597526 520477 1179558 1033823 758724 63...</td>\n",
       "      <td>14</td>\n",
       "    </tr>\n",
       "    <tr>\n",
       "      <th>1</th>\n",
       "      <td>1</td>\n",
       "      <td>581131 165432 7368 957317 1197553 570900 33659...</td>\n",
       "      <td>90540 816903 441039 816903 569138 816903 10343...</td>\n",
       "      <td>3</td>\n",
       "    </tr>\n",
       "    <tr>\n",
       "      <th>2</th>\n",
       "      <td>2</td>\n",
       "      <td>7368 87936 40494 490286 856005 641588 145611 1...</td>\n",
       "      <td>816903 1012629 957974 1033823 328210 947200 65...</td>\n",
       "      <td>12</td>\n",
       "    </tr>\n",
       "    <tr>\n",
       "      <th>3</th>\n",
       "      <td>3</td>\n",
       "      <td>299237 760651 299237 887082 159592 556634 7489...</td>\n",
       "      <td>563568 1239563 680125 780219 782805 1033823 19...</td>\n",
       "      <td>13</td>\n",
       "    </tr>\n",
       "    <tr>\n",
       "      <th>4</th>\n",
       "      <td>4</td>\n",
       "      <td>7368 7368 7368 865510 7368 396966 995243 37685...</td>\n",
       "      <td>816903 816903 816903 139132 816903 312320 1103...</td>\n",
       "      <td>12</td>\n",
       "    </tr>\n",
       "  </tbody>\n",
       "</table>\n",
       "</div>"
      ],
      "text/plain": [
       "   id                                            article  \\\n",
       "0   0  7368 1252069 365865 755561 1044285 129532 1053...   \n",
       "1   1  581131 165432 7368 957317 1197553 570900 33659...   \n",
       "2   2  7368 87936 40494 490286 856005 641588 145611 1...   \n",
       "3   3  299237 760651 299237 887082 159592 556634 7489...   \n",
       "4   4  7368 7368 7368 865510 7368 396966 995243 37685...   \n",
       "\n",
       "                                            word_seg  class  \n",
       "0  816903 597526 520477 1179558 1033823 758724 63...     14  \n",
       "1  90540 816903 441039 816903 569138 816903 10343...      3  \n",
       "2  816903 1012629 957974 1033823 328210 947200 65...     12  \n",
       "3  563568 1239563 680125 780219 782805 1033823 19...     13  \n",
       "4  816903 816903 816903 139132 816903 312320 1103...     12  "
      ]
     },
     "execution_count": 3,
     "metadata": {},
     "output_type": "execute_result"
    }
   ],
   "source": [
    "df_train = pd.read_csv('../new_data/train_set.csv')\n",
    "df_test = pd.read_csv('../new_data/test_set.csv')\n",
    "df_train.head(5)"
   ]
  },
  {
   "cell_type": "code",
   "execution_count": 4,
   "metadata": {},
   "outputs": [
    {
     "data": {
      "text/html": [
       "<div>\n",
       "<style scoped>\n",
       "    .dataframe tbody tr th:only-of-type {\n",
       "        vertical-align: middle;\n",
       "    }\n",
       "\n",
       "    .dataframe tbody tr th {\n",
       "        vertical-align: top;\n",
       "    }\n",
       "\n",
       "    .dataframe thead th {\n",
       "        text-align: right;\n",
       "    }\n",
       "</style>\n",
       "<table border=\"1\" class=\"dataframe\">\n",
       "  <thead>\n",
       "    <tr style=\"text-align: right;\">\n",
       "      <th></th>\n",
       "      <th>word_seg</th>\n",
       "      <th>class</th>\n",
       "    </tr>\n",
       "  </thead>\n",
       "  <tbody>\n",
       "    <tr>\n",
       "      <th>0</th>\n",
       "      <td>816903 597526 520477 1179558 1033823 758724 63...</td>\n",
       "      <td>14</td>\n",
       "    </tr>\n",
       "    <tr>\n",
       "      <th>1</th>\n",
       "      <td>90540 816903 441039 816903 569138 816903 10343...</td>\n",
       "      <td>3</td>\n",
       "    </tr>\n",
       "    <tr>\n",
       "      <th>2</th>\n",
       "      <td>816903 1012629 957974 1033823 328210 947200 65...</td>\n",
       "      <td>12</td>\n",
       "    </tr>\n",
       "    <tr>\n",
       "      <th>3</th>\n",
       "      <td>563568 1239563 680125 780219 782805 1033823 19...</td>\n",
       "      <td>13</td>\n",
       "    </tr>\n",
       "    <tr>\n",
       "      <th>4</th>\n",
       "      <td>816903 816903 816903 139132 816903 312320 1103...</td>\n",
       "      <td>12</td>\n",
       "    </tr>\n",
       "  </tbody>\n",
       "</table>\n",
       "</div>"
      ],
      "text/plain": [
       "                                            word_seg  class\n",
       "0  816903 597526 520477 1179558 1033823 758724 63...     14\n",
       "1  90540 816903 441039 816903 569138 816903 10343...      3\n",
       "2  816903 1012629 957974 1033823 328210 947200 65...     12\n",
       "3  563568 1239563 680125 780219 782805 1033823 19...     13\n",
       "4  816903 816903 816903 139132 816903 312320 1103...     12"
      ]
     },
     "execution_count": 4,
     "metadata": {},
     "output_type": "execute_result"
    }
   ],
   "source": [
    "# 数据预处理\n",
    "df_train.drop(columns=['article', 'id'], inplace=True)\n",
    "df_test.drop(columns=['article'], inplace=True)\n",
    "df_train.head(5)"
   ]
  },
  {
   "cell_type": "code",
   "execution_count": 7,
   "metadata": {},
   "outputs": [],
   "source": [
    "# 特征工程\n",
    "# 将数据集中的字符文本转换成数字向量以便计算机进行处理（一段文字 ---> 一个向量）\n",
    "vectorizer = CountVectorizer(ngram_range=(1, 2), min_df=3, max_df=0.9, max_features=100000)\n",
    "vectorizer.fit(df_train['word_seg'])\n",
    "x_train = vectorizer.transform(df_train['word_seg'])\n",
    "x_test = vectorizer.transform(df_test['word_seg'])\n",
    "y_train = df_train['class']-1"
   ]
  },
  {
   "cell_type": "code",
   "execution_count": 14,
   "metadata": {
    "collapsed": true
   },
   "outputs": [
    {
     "name": "stdout",
     "output_type": "stream",
     "text": [
      "  (0, 24)\t1\n",
      "  (0, 81)\t1\n",
      "  (0, 246)\t1\n",
      "  (0, 260)\t1\n",
      "  (0, 329)\t1\n",
      "  (0, 691)\t2\n",
      "  (0, 713)\t1\n",
      "  (0, 1269)\t1\n",
      "  (0, 1712)\t1\n",
      "  (0, 2007)\t8\n",
      "  (0, 2154)\t1\n",
      "  (0, 2631)\t1\n",
      "  (0, 2817)\t2\n",
      "  (0, 2967)\t1\n",
      "  (0, 3036)\t1\n",
      "  (0, 3751)\t1\n",
      "  (0, 3807)\t3\n",
      "  (0, 3869)\t1\n",
      "  (0, 4787)\t1\n",
      "  (0, 4868)\t2\n",
      "  (0, 5588)\t1\n",
      "  (0, 7478)\t1\n",
      "  (0, 7577)\t1\n",
      "  (0, 7635)\t1\n",
      "  (0, 7639)\t1\n",
      "  :\t:\n",
      "  (102276, 94070)\t1\n",
      "  (102276, 94071)\t1\n",
      "  (102276, 94381)\t2\n",
      "  (102276, 95013)\t1\n",
      "  (102276, 95092)\t1\n",
      "  (102276, 95175)\t1\n",
      "  (102276, 95207)\t1\n",
      "  (102276, 95614)\t1\n",
      "  (102276, 95793)\t1\n",
      "  (102276, 96350)\t4\n",
      "  (102276, 96351)\t1\n",
      "  (102276, 96628)\t2\n",
      "  (102276, 96723)\t1\n",
      "  (102276, 96725)\t1\n",
      "  (102276, 96739)\t1\n",
      "  (102276, 96757)\t1\n",
      "  (102276, 97224)\t1\n",
      "  (102276, 97225)\t1\n",
      "  (102276, 97900)\t1\n",
      "  (102276, 98241)\t2\n",
      "  (102276, 98344)\t1\n",
      "  (102276, 98367)\t1\n",
      "  (102276, 99563)\t2\n",
      "  (102276, 99850)\t1\n",
      "  (102276, 99851)\t1\n"
     ]
    }
   ],
   "source": [
    "print(x_train)"
   ]
  },
  {
   "cell_type": "code",
   "execution_count": 16,
   "metadata": {},
   "outputs": [
    {
     "data": {
      "text/plain": [
       "204554"
      ]
     },
     "execution_count": 16,
     "metadata": {},
     "output_type": "execute_result"
    }
   ],
   "source": [
    "df_train.size"
   ]
  },
  {
   "cell_type": "code",
   "execution_count": 18,
   "metadata": {},
   "outputs": [
    {
     "data": {
      "text/plain": [
       "49363849"
      ]
     },
     "execution_count": 18,
     "metadata": {},
     "output_type": "execute_result"
    }
   ],
   "source": [
    "x_train.size"
   ]
  },
  {
   "cell_type": "code",
   "execution_count": 19,
   "metadata": {
    "collapsed": true
   },
   "outputs": [
    {
     "data": {
      "text/plain": [
       "0         13\n",
       "1          2\n",
       "2         11\n",
       "3         12\n",
       "4         11\n",
       "5         12\n",
       "6          0\n",
       "7          9\n",
       "8          9\n",
       "9         18\n",
       "10        17\n",
       "11         6\n",
       "12         8\n",
       "13         3\n",
       "14        16\n",
       "15         8\n",
       "16        12\n",
       "17         9\n",
       "18         9\n",
       "19        13\n",
       "20         9\n",
       "21         8\n",
       "22         0\n",
       "23         1\n",
       "24        12\n",
       "25         0\n",
       "26         6\n",
       "27        16\n",
       "28         9\n",
       "29         7\n",
       "          ..\n",
       "102247     8\n",
       "102248    17\n",
       "102249    12\n",
       "102250     8\n",
       "102251     0\n",
       "102252    13\n",
       "102253    11\n",
       "102254    10\n",
       "102255    18\n",
       "102256     1\n",
       "102257     3\n",
       "102258     2\n",
       "102259     5\n",
       "102260     8\n",
       "102261     0\n",
       "102262    17\n",
       "102263     5\n",
       "102264     7\n",
       "102265    15\n",
       "102266    17\n",
       "102267    14\n",
       "102268     2\n",
       "102269     2\n",
       "102270     2\n",
       "102271     7\n",
       "102272    13\n",
       "102273     7\n",
       "102274    11\n",
       "102275     3\n",
       "102276    10\n",
       "Name: class, Length: 102277, dtype: int64"
      ]
     },
     "execution_count": 19,
     "metadata": {},
     "output_type": "execute_result"
    }
   ],
   "source": [
    "y_train"
   ]
  },
  {
   "cell_type": "code",
   "execution_count": 20,
   "metadata": {},
   "outputs": [
    {
     "name": "stderr",
     "output_type": "stream",
     "text": [
      "D:\\ProgramData\\Anaconda3\\lib\\site-packages\\sklearn\\linear_model\\logistic.py:433: FutureWarning: Default solver will be changed to 'lbfgs' in 0.22. Specify a solver to silence this warning.\n",
      "  FutureWarning)\n",
      "D:\\ProgramData\\Anaconda3\\lib\\site-packages\\sklearn\\linear_model\\logistic.py:460: FutureWarning: Default multi_class will be changed to 'auto' in 0.22. Specify the multi_class option to silence this warning.\n",
      "  \"this warning.\", FutureWarning)\n",
      "D:\\ProgramData\\Anaconda3\\lib\\site-packages\\sklearn\\svm\\base.py:922: ConvergenceWarning: Liblinear failed to converge, increase the number of iterations.\n",
      "  \"the number of iterations.\", ConvergenceWarning)\n"
     ]
    },
    {
     "data": {
      "text/plain": [
       "LogisticRegression(C=4, class_weight=None, dual=True, fit_intercept=True,\n",
       "          intercept_scaling=1, max_iter=100, multi_class='warn',\n",
       "          n_jobs=None, penalty='l2', random_state=None, solver='warn',\n",
       "          tol=0.0001, verbose=0, warm_start=False)"
      ]
     },
     "execution_count": 20,
     "metadata": {},
     "output_type": "execute_result"
    }
   ],
   "source": [
    "# 训练分类器（线性逻辑回归）\n",
    "lg = LogisticRegression(C=4, dual=True)\n",
    "lg.fit(x_train, y_train)"
   ]
  },
  {
   "cell_type": "code",
   "execution_count": 21,
   "metadata": {},
   "outputs": [],
   "source": [
    "# 预测¶\n",
    "# 根据上面训练好的分类器对测试集的每个样本进行预测\n",
    "y_test = lg.predict(x_test)"
   ]
  },
  {
   "cell_type": "code",
   "execution_count": 22,
   "metadata": {},
   "outputs": [],
   "source": [
    "# 保存\n",
    "# 将测试集的预测结果保存至本地\n",
    "df_test['class'] = y_test.tolist()\n",
    "df_test['class'] = df_test['class'] + 1\n",
    "df_result = df_test.loc[:, ['id', 'class']]\n",
    "df_result.to_csv('./result.csv', index = False)"
   ]
  },
  {
   "cell_type": "code",
   "execution_count": null,
   "metadata": {},
   "outputs": [],
   "source": []
  }
 ],
 "metadata": {
  "kernelspec": {
   "display_name": "Python 3",
   "language": "python",
   "name": "python3"
  },
  "language_info": {
   "codemirror_mode": {
    "name": "ipython",
    "version": 3
   },
   "file_extension": ".py",
   "mimetype": "text/x-python",
   "name": "python",
   "nbconvert_exporter": "python",
   "pygments_lexer": "ipython3",
   "version": "3.7.1"
  }
 },
 "nbformat": 4,
 "nbformat_minor": 2
}
